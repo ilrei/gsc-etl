{
 "cells": [
  {
   "cell_type": "markdown",
   "metadata": {
    "toc": true
   },
   "source": [
    "<h1>Table of Contents<span class=\"tocSkip\"></span></h1>\n",
    "<div class=\"toc\"><ul class=\"toc-item\"><li><span><a href=\"#Import-GSC-Functions\" data-toc-modified-id=\"Import-GSC-Functions-1\"><span class=\"toc-item-num\">1&nbsp;&nbsp;</span>Import GSC Functions</a></span><ul class=\"toc-item\"><li><span><a href=\"#Set-dates-&amp;-filenames\" data-toc-modified-id=\"Set-dates-&amp;-filenames-1.1\"><span class=\"toc-item-num\">1.1&nbsp;&nbsp;</span>Set dates &amp; filenames</a></span></li><li><span><a href=\"#Check-verified-sites\" data-toc-modified-id=\"Check-verified-sites-1.2\"><span class=\"toc-item-num\">1.2&nbsp;&nbsp;</span>Check verified sites</a></span></li></ul></li><li><span><a href=\"#Get-last-14-days-data\" data-toc-modified-id=\"Get-last-14-days-data-2\"><span class=\"toc-item-num\">2&nbsp;&nbsp;</span>Get last 14 days data</a></span><ul class=\"toc-item\"><li><span><a href=\"#Categorize-queries-in-brand,-cameras-and-generic\" data-toc-modified-id=\"Categorize-queries-in-brand,-cameras-and-generic-2.1\"><span class=\"toc-item-num\">2.1&nbsp;&nbsp;</span>Categorize queries in brand, cameras and generic</a></span></li><li><span><a href=\"#Parse-dates\" data-toc-modified-id=\"Parse-dates-2.2\"><span class=\"toc-item-num\">2.2&nbsp;&nbsp;</span>Parse dates</a></span></li></ul></li><li><span><a href=\"#Save-file\" data-toc-modified-id=\"Save-file-3\"><span class=\"toc-item-num\">3&nbsp;&nbsp;</span>Save file</a></span><ul class=\"toc-item\"><li><span><a href=\"#Save-csv-local\" data-toc-modified-id=\"Save-csv-local-3.1\"><span class=\"toc-item-num\">3.1&nbsp;&nbsp;</span>Save csv local</a></span></li><li><span><a href=\"#Load-to-Big-Query\" data-toc-modified-id=\"Load-to-Big-Query-3.2\"><span class=\"toc-item-num\">3.2&nbsp;&nbsp;</span>Load to Big Query</a></span></li><li><span><a href=\"#Load-to-Cloud-Storage\" data-toc-modified-id=\"Load-to-Cloud-Storage-3.3\"><span class=\"toc-item-num\">3.3&nbsp;&nbsp;</span>Load to Cloud Storage</a></span></li></ul></li></ul></div>"
   ]
  },
  {
   "cell_type": "code",
   "execution_count": 1,
   "metadata": {},
   "outputs": [],
   "source": [
    "from datetime import timedelta, datetime\n",
    "from googleapiclient.discovery import build\n",
    "from google.cloud import bigquery\n",
    "from google.cloud import storage\n",
    "from google.oauth2 import service_account\n",
    "import calendar\n",
    "import json\n",
    "import pandas as pd\n",
    "import re\n",
    "import requests\n",
    "\n",
    "pd.set_option('max_colwidth', 150)"
   ]
  },
  {
   "cell_type": "markdown",
   "metadata": {},
   "source": [
    "# Import GSC Functions"
   ]
  },
  {
   "cell_type": "code",
   "execution_count": 2,
   "metadata": {},
   "outputs": [],
   "source": [
    "%run 'GSC-Functions.ipynb'"
   ]
  },
  {
   "cell_type": "markdown",
   "metadata": {},
   "source": [
    "## Set dates & filenames"
   ]
  },
  {
   "cell_type": "code",
   "execution_count": 3,
   "metadata": {},
   "outputs": [
    {
     "data": {
      "text/plain": [
       "datetime.datetime(2021, 1, 2, 11, 35, 21, 124613)"
      ]
     },
     "execution_count": 3,
     "metadata": {},
     "output_type": "execute_result"
    }
   ],
   "source": [
    "first_available"
   ]
  },
  {
   "cell_type": "code",
   "execution_count": 4,
   "metadata": {},
   "outputs": [
    {
     "data": {
      "text/plain": [
       "('2022-04-12', '2022-04-26')"
      ]
     },
     "execution_count": 4,
     "metadata": {},
     "output_type": "execute_result"
    }
   ],
   "source": [
    "first_date = (today - timedelta(days=15)).strftime('%Y-%m-%d')\n",
    "last_date = (today - timedelta(days=1)).strftime('%Y-%m-%d')\n",
    "\n",
    "first_date, last_date"
   ]
  },
  {
   "cell_type": "code",
   "execution_count": 5,
   "metadata": {},
   "outputs": [
    {
     "data": {
      "text/plain": [
       "('gsc_daily_20220412_20220426.csv', 'files/gsc_daily_20220412_20220426.csv')"
      ]
     },
     "execution_count": 5,
     "metadata": {},
     "output_type": "execute_result"
    }
   ],
   "source": [
    "#Get date range to be used on output file names\n",
    "\n",
    "date_range = (first_date + '_' + last_date).replace(\"-\",\"\")\n",
    "filename = ('gsc_daily_' + date_range + '.csv') \n",
    "localpath = ('files/' + filename)\n",
    "filename, localpath"
   ]
  },
  {
   "cell_type": "markdown",
   "metadata": {},
   "source": [
    "## Check verified sites"
   ]
  },
  {
   "cell_type": "code",
   "execution_count": 6,
   "metadata": {
    "scrolled": true
   },
   "outputs": [
    {
     "data": {
      "text/plain": [
       "['https://www.verisure.no/',\n",
       " 'https://www.verisure.dk/',\n",
       " 'https://www.verisure.it/',\n",
       " 'https://www.verisure.cl/',\n",
       " 'https://www.verisure.de/',\n",
       " 'https://www.verisure.pe/',\n",
       " 'https://www.verisure.fi/',\n",
       " 'https://www.verisure.co.uk/',\n",
       " 'https://www.securitasdirect.es/',\n",
       " 'https://www.verisure.com.br/',\n",
       " 'https://www.verisure.nl/',\n",
       " 'https://www.verisure.com.ar/',\n",
       " 'https://www.verisure.fr/',\n",
       " 'https://www.verisure.se/',\n",
       " 'https://www.verisure.be/',\n",
       " 'https://www.securitasdirect.pt/']"
      ]
     },
     "execution_count": 6,
     "metadata": {},
     "output_type": "execute_result"
    }
   ],
   "source": [
    "verified_sites_urls"
   ]
  },
  {
   "cell_type": "markdown",
   "metadata": {},
   "source": [
    "# Get last 14 days data"
   ]
  },
  {
   "cell_type": "code",
   "execution_count": 7,
   "metadata": {
    "scrolled": true
   },
   "outputs": [
    {
     "name": "stdout",
     "output_type": "stream",
     "text": [
      "https://www.verisure.no/\n",
      "Working on loop 0\n",
      "Working on loop 1\n",
      "Working on loop 2\n",
      "\n",
      "\n",
      "https://www.verisure.dk/\n",
      "Working on loop 0\n",
      "Working on loop 1\n",
      "Working on loop 2\n",
      "\n",
      "\n",
      "https://www.verisure.it/\n",
      "Working on loop 0\n",
      "Working on loop 1\n",
      "Working on loop 2\n",
      "\n",
      "\n",
      "https://www.verisure.cl/\n",
      "Working on loop 0\n",
      "\n",
      "\n",
      "https://www.verisure.de/\n",
      "Working on loop 0\n",
      "\n",
      "\n",
      "https://www.verisure.pe/\n",
      "Working on loop 0\n",
      "\n",
      "\n",
      "https://www.verisure.fi/\n",
      "Working on loop 0\n",
      "\n",
      "\n",
      "https://www.verisure.co.uk/\n",
      "Working on loop 0\n",
      "Working on loop 1\n",
      "Working on loop 2\n",
      "Working on loop 3\n",
      "Working on loop 4\n",
      "Working on loop 5\n",
      "\n",
      "\n",
      "https://www.securitasdirect.es/\n",
      "Working on loop 0\n",
      "Working on loop 1\n",
      "Working on loop 2\n",
      "Working on loop 3\n",
      "Working on loop 4\n",
      "\n",
      "\n",
      "https://www.verisure.com.br/\n",
      "Working on loop 0\n",
      "\n",
      "\n",
      "https://www.verisure.nl/\n",
      "Working on loop 0\n",
      "Working on loop 1\n",
      "\n",
      "\n",
      "https://www.verisure.com.ar/\n",
      "Working on loop 0\n",
      "Working on loop 1\n",
      "\n",
      "\n",
      "https://www.verisure.fr/\n",
      "Working on loop 0\n",
      "Working on loop 1\n",
      "Working on loop 2\n",
      "Working on loop 3\n",
      "Working on loop 4\n",
      "Working on loop 5\n",
      "Working on loop 6\n",
      "\n",
      "\n",
      "https://www.verisure.se/\n",
      "Working on loop 0\n",
      "Working on loop 1\n",
      "\n",
      "\n",
      "https://www.verisure.be/\n",
      "Working on loop 0\n",
      "Working on loop 1\n",
      "\n",
      "\n",
      "https://www.securitasdirect.pt/\n",
      "Working on loop 0\n",
      "\n",
      "\n"
     ]
    },
    {
     "data": {
      "text/html": [
       "<div>\n",
       "<style scoped>\n",
       "    .dataframe tbody tr th:only-of-type {\n",
       "        vertical-align: middle;\n",
       "    }\n",
       "\n",
       "    .dataframe tbody tr th {\n",
       "        vertical-align: top;\n",
       "    }\n",
       "\n",
       "    .dataframe thead th {\n",
       "        text-align: right;\n",
       "    }\n",
       "</style>\n",
       "<table border=\"1\" class=\"dataframe\">\n",
       "  <thead>\n",
       "    <tr style=\"text-align: right;\">\n",
       "      <th></th>\n",
       "      <th>date</th>\n",
       "      <th>query</th>\n",
       "      <th>country</th>\n",
       "      <th>device</th>\n",
       "      <th>clicks</th>\n",
       "      <th>impressions</th>\n",
       "      <th>ctr</th>\n",
       "      <th>position</th>\n",
       "      <th>site_country</th>\n",
       "    </tr>\n",
       "  </thead>\n",
       "  <tbody>\n",
       "    <tr>\n",
       "      <th>0</th>\n",
       "      <td>2022-04-19</td>\n",
       "      <td>verisure</td>\n",
       "      <td>nor</td>\n",
       "      <td>DESKTOP</td>\n",
       "      <td>63</td>\n",
       "      <td>240</td>\n",
       "      <td>26.25</td>\n",
       "      <td>1.13</td>\n",
       "      <td>no/</td>\n",
       "    </tr>\n",
       "    <tr>\n",
       "      <th>1</th>\n",
       "      <td>2022-04-21</td>\n",
       "      <td>verisure</td>\n",
       "      <td>nor</td>\n",
       "      <td>DESKTOP</td>\n",
       "      <td>62</td>\n",
       "      <td>202</td>\n",
       "      <td>30.69</td>\n",
       "      <td>1.16</td>\n",
       "      <td>no/</td>\n",
       "    </tr>\n",
       "    <tr>\n",
       "      <th>2</th>\n",
       "      <td>2022-04-20</td>\n",
       "      <td>verisure</td>\n",
       "      <td>nor</td>\n",
       "      <td>DESKTOP</td>\n",
       "      <td>60</td>\n",
       "      <td>204</td>\n",
       "      <td>29.41</td>\n",
       "      <td>1.21</td>\n",
       "      <td>no/</td>\n",
       "    </tr>\n",
       "    <tr>\n",
       "      <th>3</th>\n",
       "      <td>2022-04-19</td>\n",
       "      <td>verisure min side</td>\n",
       "      <td>nor</td>\n",
       "      <td>DESKTOP</td>\n",
       "      <td>54</td>\n",
       "      <td>64</td>\n",
       "      <td>84.38</td>\n",
       "      <td>1.00</td>\n",
       "      <td>no/</td>\n",
       "    </tr>\n",
       "    <tr>\n",
       "      <th>4</th>\n",
       "      <td>2022-04-20</td>\n",
       "      <td>verisure</td>\n",
       "      <td>nor</td>\n",
       "      <td>MOBILE</td>\n",
       "      <td>53</td>\n",
       "      <td>291</td>\n",
       "      <td>18.21</td>\n",
       "      <td>1.12</td>\n",
       "      <td>no/</td>\n",
       "    </tr>\n",
       "    <tr>\n",
       "      <th>...</th>\n",
       "      <td>...</td>\n",
       "      <td>...</td>\n",
       "      <td>...</td>\n",
       "      <td>...</td>\n",
       "      <td>...</td>\n",
       "      <td>...</td>\n",
       "      <td>...</td>\n",
       "      <td>...</td>\n",
       "      <td>...</td>\n",
       "    </tr>\n",
       "    <tr>\n",
       "      <th>17781</th>\n",
       "      <td>2022-04-24</td>\n",
       "      <td>www.securitasdirect.pt</td>\n",
       "      <td>prt</td>\n",
       "      <td>DESKTOP</td>\n",
       "      <td>0</td>\n",
       "      <td>1</td>\n",
       "      <td>0.00</td>\n",
       "      <td>1.00</td>\n",
       "      <td>pt/</td>\n",
       "    </tr>\n",
       "    <tr>\n",
       "      <th>17782</th>\n",
       "      <td>2022-04-24</td>\n",
       "      <td>zero vision</td>\n",
       "      <td>bra</td>\n",
       "      <td>DESKTOP</td>\n",
       "      <td>0</td>\n",
       "      <td>1</td>\n",
       "      <td>0.00</td>\n",
       "      <td>6.00</td>\n",
       "      <td>pt/</td>\n",
       "    </tr>\n",
       "    <tr>\n",
       "      <th>17783</th>\n",
       "      <td>2022-04-24</td>\n",
       "      <td>zerovision</td>\n",
       "      <td>gbr</td>\n",
       "      <td>DESKTOP</td>\n",
       "      <td>0</td>\n",
       "      <td>1</td>\n",
       "      <td>0.00</td>\n",
       "      <td>10.00</td>\n",
       "      <td>pt/</td>\n",
       "    </tr>\n",
       "    <tr>\n",
       "      <th>17784</th>\n",
       "      <td>2022-04-24</td>\n",
       "      <td>zerovision</td>\n",
       "      <td>prt</td>\n",
       "      <td>MOBILE</td>\n",
       "      <td>0</td>\n",
       "      <td>1</td>\n",
       "      <td>0.00</td>\n",
       "      <td>5.00</td>\n",
       "      <td>pt/</td>\n",
       "    </tr>\n",
       "    <tr>\n",
       "      <th>17785</th>\n",
       "      <td>2022-04-24</td>\n",
       "      <td>zerovision</td>\n",
       "      <td>swe</td>\n",
       "      <td>MOBILE</td>\n",
       "      <td>0</td>\n",
       "      <td>1</td>\n",
       "      <td>0.00</td>\n",
       "      <td>9.00</td>\n",
       "      <td>pt/</td>\n",
       "    </tr>\n",
       "  </tbody>\n",
       "</table>\n",
       "<p>862717 rows × 9 columns</p>\n",
       "</div>"
      ],
      "text/plain": [
       "             date                   query country   device  clicks  \\\n",
       "0      2022-04-19                verisure     nor  DESKTOP      63   \n",
       "1      2022-04-21                verisure     nor  DESKTOP      62   \n",
       "2      2022-04-20                verisure     nor  DESKTOP      60   \n",
       "3      2022-04-19       verisure min side     nor  DESKTOP      54   \n",
       "4      2022-04-20                verisure     nor   MOBILE      53   \n",
       "...           ...                     ...     ...      ...     ...   \n",
       "17781  2022-04-24  www.securitasdirect.pt     prt  DESKTOP       0   \n",
       "17782  2022-04-24             zero vision     bra  DESKTOP       0   \n",
       "17783  2022-04-24              zerovision     gbr  DESKTOP       0   \n",
       "17784  2022-04-24              zerovision     prt   MOBILE       0   \n",
       "17785  2022-04-24              zerovision     swe   MOBILE       0   \n",
       "\n",
       "       impressions    ctr  position site_country  \n",
       "0              240  26.25      1.13          no/  \n",
       "1              202  30.69      1.16          no/  \n",
       "2              204  29.41      1.21          no/  \n",
       "3               64  84.38      1.00          no/  \n",
       "4              291  18.21      1.12          no/  \n",
       "...            ...    ...       ...          ...  \n",
       "17781            1   0.00      1.00          pt/  \n",
       "17782            1   0.00      6.00          pt/  \n",
       "17783            1   0.00     10.00          pt/  \n",
       "17784            1   0.00      5.00          pt/  \n",
       "17785            1   0.00      9.00          pt/  \n",
       "\n",
       "[862717 rows x 9 columns]"
      ]
     },
     "execution_count": 7,
     "metadata": {},
     "output_type": "execute_result"
    }
   ],
   "source": [
    "#------------------------------------------- last 7 days data on countries loop ------------------------------------------\n",
    "\n",
    "service = connect(key)\n",
    "maxRows = 25000\n",
    "i = 0\n",
    "payload = {\n",
    "    'startDate': first_date,\n",
    "    'endDate': last_date,\n",
    "    'dimensions': ['date', 'query', 'country', 'device'],\n",
    "    'rowLimit': maxRows,\n",
    "    'startRow': 0}\n",
    "\n",
    "results = []\n",
    "\n",
    "for s in verified_sites_urls:\n",
    "    print(s)\n",
    "    df_s = paginated(service, s, payload)\n",
    "    payload['startRow'] = 0\n",
    "    results.append(df_s)\n",
    "    print('\\n')\n",
    "    \n",
    "df = pd.concat(results)\n",
    "df"
   ]
  },
  {
   "cell_type": "markdown",
   "metadata": {},
   "source": [
    "## Categorize queries in brand, cameras and generic"
   ]
  },
  {
   "cell_type": "code",
   "execution_count": 8,
   "metadata": {},
   "outputs": [],
   "source": [
    "df = query_cats(df)"
   ]
  },
  {
   "cell_type": "markdown",
   "metadata": {},
   "source": [
    "## Parse dates"
   ]
  },
  {
   "cell_type": "code",
   "execution_count": 9,
   "metadata": {},
   "outputs": [],
   "source": [
    "df = date_datetime(df)"
   ]
  },
  {
   "cell_type": "markdown",
   "metadata": {},
   "source": [
    "# Save file"
   ]
  },
  {
   "cell_type": "markdown",
   "metadata": {},
   "source": [
    "## Save csv local"
   ]
  },
  {
   "cell_type": "code",
   "execution_count": 10,
   "metadata": {},
   "outputs": [],
   "source": [
    "df.to_csv(localpath, index=False)"
   ]
  },
  {
   "cell_type": "markdown",
   "metadata": {},
   "source": [
    "## Load to Big Query"
   ]
  },
  {
   "cell_type": "code",
   "execution_count": null,
   "metadata": {},
   "outputs": [],
   "source": [
    "#------------------------------------------- solve credentials & env ------------------------------------------\n",
    "\n",
    "location = 'credentials/client_secrets.json'\n",
    "\n",
    "%env GOOGLE_APPLICATION_CREDENTIALS=$location\n",
    "\n",
    "%load_ext google.cloud.bigquery"
   ]
  },
  {
   "cell_type": "code",
   "execution_count": null,
   "metadata": {},
   "outputs": [],
   "source": [
    "table_schema = [{'name': \"date\", 'type': \"DATE\"},\n",
    "                {'name': \"query\", 'type': \"STRING\"},\n",
    "                {'name': \"country\", 'type': \"STRING\"},\n",
    "                {'name': \"device\", 'type': \"STRING\"},\n",
    "                {'name': \"clicks\", 'type': \"INTEGER\"},\n",
    "                {'name': \"impressions\", 'type': \"INTEGER\"},\n",
    "                {'name': \"ctr\", 'type': \"FLOAT\"},\n",
    "                {'name': \"position\", 'type': \"FLOAT\"},\n",
    "                {'name': \"site_country\", 'type': \"STRING\"},\n",
    "                {'name': \"query_cat\", 'type': \"STRING\"}]"
   ]
  },
  {
   "cell_type": "code",
   "execution_count": null,
   "metadata": {},
   "outputs": [],
   "source": [
    "#------------------------------------------- write on bq ------------------------------------------\n",
    "#https://pandas.pydata.org/docs/reference/api/pandas.DataFrame.to_gbq.html \n",
    "\n",
    "df.to_gbq(\n",
    "    'SEO.gsc_daily_test', #dataset.table\n",
    "    'group-lead-gen', #project\n",
    "    chunksize=1000000,\n",
    "    table_schema=table_schema, #optional\n",
    "    if_exists='append'\n",
    ")"
   ]
  },
  {
   "cell_type": "markdown",
   "metadata": {},
   "source": [
    "## Load to Cloud Storage"
   ]
  },
  {
   "cell_type": "code",
   "execution_count": 11,
   "metadata": {},
   "outputs": [
    {
     "name": "stdout",
     "output_type": "stream",
     "text": [
      "env: GOOGLE_APPLICATION_CREDENTIALS=credentials/client_secrets.json\n"
     ]
    }
   ],
   "source": [
    "#------------------------------------------- solve credentials & env ------------------------------------------\n",
    "\n",
    "location = 'credentials/client_secrets.json'\n",
    "\n",
    "%env GOOGLE_APPLICATION_CREDENTIALS =$location\n",
    "\n",
    "storage_client = storage.Client()"
   ]
  },
  {
   "cell_type": "code",
   "execution_count": 13,
   "metadata": {},
   "outputs": [],
   "source": [
    "bucket = storage_client.get_bucket('gsc_daily')\n",
    "\n",
    "def save_to_google_cloud_storage(destination_file, source_data, is_string_data):\n",
    "    blob = bucket.blob(destination_file)\n",
    "    if is_string_data:\n",
    "        blob.upload_from_string(source_data)\n",
    "    else:\n",
    "        blob.upload_from_filename(source_data)"
   ]
  },
  {
   "cell_type": "code",
   "execution_count": 14,
   "metadata": {},
   "outputs": [],
   "source": [
    "save_to_google_cloud_storage(filename, df.to_csv(index=False), True)"
   ]
  }
 ],
 "metadata": {
  "kernelspec": {
   "display_name": "Python 3",
   "language": "python",
   "name": "python3"
  },
  "language_info": {
   "codemirror_mode": {
    "name": "ipython",
    "version": 3
   },
   "file_extension": ".py",
   "mimetype": "text/x-python",
   "name": "python",
   "nbconvert_exporter": "python",
   "pygments_lexer": "ipython3",
   "version": "3.6.7"
  },
  "toc": {
   "base_numbering": 1,
   "nav_menu": {},
   "number_sections": true,
   "sideBar": true,
   "skip_h1_title": false,
   "title_cell": "Table of Contents",
   "title_sidebar": "Contents",
   "toc_cell": true,
   "toc_position": {},
   "toc_section_display": true,
   "toc_window_display": true
  }
 },
 "nbformat": 4,
 "nbformat_minor": 4
}
