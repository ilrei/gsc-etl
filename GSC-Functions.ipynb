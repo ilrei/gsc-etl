{
 "cells": [
  {
   "cell_type": "markdown",
   "metadata": {
    "toc": true
   },
   "source": [
    "<h1>Table of Contents<span class=\"tocSkip\"></span></h1>\n",
    "<div class=\"toc\"><ul class=\"toc-item\"><li><span><a href=\"#Define-credentials-&amp;-connection-function\" data-toc-modified-id=\"Define-credentials-&amp;-connection-function-1\"><span class=\"toc-item-num\">1&nbsp;&nbsp;</span>Define credentials &amp; connection function</a></span></li><li><span><a href=\"#Base-query-function\" data-toc-modified-id=\"Base-query-function-2\"><span class=\"toc-item-num\">2&nbsp;&nbsp;</span>Base query function</a></span></li><li><span><a href=\"#Pagination-function\" data-toc-modified-id=\"Pagination-function-3\"><span class=\"toc-item-num\">3&nbsp;&nbsp;</span>Pagination function</a></span></li><li><span><a href=\"#Time-variables\" data-toc-modified-id=\"Time-variables-4\"><span class=\"toc-item-num\">4&nbsp;&nbsp;</span>Time variables</a></span><ul class=\"toc-item\"><li><span><a href=\"#Get-sites-URL\" data-toc-modified-id=\"Get-sites-URL-4.1\"><span class=\"toc-item-num\">4.1&nbsp;&nbsp;</span>Get sites URL</a></span></li></ul></li><li><span><a href=\"#Loop-over-countries\" data-toc-modified-id=\"Loop-over-countries-5\"><span class=\"toc-item-num\">5&nbsp;&nbsp;</span>Loop over countries</a></span></li><li><span><a href=\"#Classificate-brand,-generic-and-cameras\" data-toc-modified-id=\"Classificate-brand,-generic-and-cameras-6\"><span class=\"toc-item-num\">6&nbsp;&nbsp;</span>Classificate brand, generic and cameras</a></span></li><li><span><a href=\"#Parse-dates\" data-toc-modified-id=\"Parse-dates-7\"><span class=\"toc-item-num\">7&nbsp;&nbsp;</span>Parse dates</a></span></li></ul></div>"
   ]
  },
  {
   "cell_type": "code",
   "execution_count": 1,
   "metadata": {},
   "outputs": [],
   "source": [
    "import calendar\n",
    "import datetime\n",
    "import json\n",
    "import pandas as pd\n",
    "import re\n",
    "import requests\n",
    "\n",
    "from google.oauth2 import service_account\n",
    "from googleapiclient.discovery import build\n",
    "\n",
    "pd.set_option('max_colwidth', 150)"
   ]
  },
  {
   "cell_type": "markdown",
   "metadata": {},
   "source": [
    "# Define credentials & connection function"
   ]
  },
  {
   "cell_type": "code",
   "execution_count": 2,
   "metadata": {},
   "outputs": [],
   "source": [
    "key = 'credentials/group-lead-gen-f7a1d777494c.json'"
   ]
  },
  {
   "cell_type": "code",
   "execution_count": 3,
   "metadata": {},
   "outputs": [],
   "source": [
    "#------------------------------------------- connection function -------------------------------------------\n",
    "\n",
    "def connect(key):\n",
    "    \"\"\"Create a connection to the Google Search Console API and return service object.\n",
    "    Args:\n",
    "        key (string): Google Search Console JSON client secrets path.\n",
    "    Returns:\n",
    "        service (object): Google Search Console service object.\n",
    "    \"\"\"\n",
    "    scope = ['https://www.googleapis.com/auth/webmasters']\n",
    "    credentials = service_account.Credentials.from_service_account_file(key, scopes=scope)\n",
    "    service = build(\n",
    "        'webmasters',\n",
    "        'v3',\n",
    "        credentials=credentials\n",
    "    )\n",
    "    \n",
    "    return service"
   ]
  },
  {
   "cell_type": "markdown",
   "metadata": {},
   "source": [
    "# Base query function"
   ]
  },
  {
   "cell_type": "code",
   "execution_count": 4,
   "metadata": {},
   "outputs": [],
   "source": [
    "#------------------------------------------- base query function -------------------------------------------\n",
    "\n",
    "def query(service, site_url, payload):\n",
    "    \"\"\"Run a query on the Google Search Console API and return a dataframe of results.\n",
    "    Args:\n",
    "        service (object): Service object from connect()\n",
    "        site_url (string): URL of Google Search Console property\n",
    "        payload (dict): API query payload dictionary\n",
    "    Return:\n",
    "        df (dataframe): Pandas dataframe containing requested data. \n",
    "    \"\"\"\n",
    "    \n",
    "    response = service.searchanalytics().query(siteUrl=site_url, body=payload).execute() \n",
    "    results = []\n",
    "    for row in response['rows']:    \n",
    "        data = {}\n",
    "        \n",
    "        for i in range(len(payload['dimensions'])):\n",
    "            data[payload['dimensions'][i]] = row['keys'][i]\n",
    "\n",
    "        data['clicks'] = row['clicks']\n",
    "        data['impressions'] = row['impressions']\n",
    "        data['ctr'] = round(row['ctr'] * 100, 2)\n",
    "        data['position'] = round(row['position'], 2)  \n",
    "        data['country'] = site_url[site_url.rindex('.')+1:]\n",
    "        results.append(data)\n",
    "    \n",
    "    df = pd.DataFrame.from_dict(results)\n",
    "    \n",
    "    return(df)"
   ]
  },
  {
   "cell_type": "markdown",
   "metadata": {},
   "source": [
    "# Pagination function"
   ]
  },
  {
   "cell_type": "code",
   "execution_count": 5,
   "metadata": {},
   "outputs": [],
   "source": [
    "#------------------------------------------- pagination function -------------------------------------------\n",
    "\n",
    "def paginated(service, site_url, payload):\n",
    "    \"\"\"Run a query on the Google Search Console API and return a dataframe paginating over results.\n",
    "    Args:\n",
    "        service (object): Service object from connect()\n",
    "        site_url (string): URL of Google Search Console property\n",
    "        payload (dict): API query payload dictionary\n",
    "    Return:\n",
    "        df (dataframe): Pandas dataframe containing requested data. \n",
    "    \"\"\"\n",
    "    \n",
    "    results = []\n",
    "    response = service.searchanalytics().query(siteUrl=site_url, body=payload).execute()\n",
    "    c = 0\n",
    "\n",
    "    while 'rows' in response:\n",
    "        \n",
    "        print('Working on loop', c)\n",
    "        \n",
    "        for row in response['rows']:    \n",
    "            data = {}\n",
    "\n",
    "            for i in range(len(payload['dimensions'])):\n",
    "                data[payload['dimensions'][i]] = row['keys'][i]\n",
    "\n",
    "            data['clicks'] = row['clicks']\n",
    "            data['impressions'] = row['impressions']\n",
    "            data['ctr'] = round(row['ctr'] * 100, 2)\n",
    "            data['position'] = round(row['position'], 2)\n",
    "            data['site_country'] = site_url[site_url.rindex('.')+1:]\n",
    "            results.append(data)\n",
    "        \n",
    "        c+=1\n",
    "        payload['startRow'] = payload['rowLimit'] * c\n",
    "        response = service.searchanalytics().query(siteUrl=site_url, body=payload).execute()\n",
    "        \n",
    "    df = pd.DataFrame.from_dict(results)\n",
    "            \n",
    "    return(df)"
   ]
  },
  {
   "cell_type": "markdown",
   "metadata": {},
   "source": [
    "# Time variables"
   ]
  },
  {
   "cell_type": "code",
   "execution_count": 6,
   "metadata": {},
   "outputs": [],
   "source": [
    "#------------------------------------------- check availability and define time period -------------------------------\n",
    "\n",
    "today = datetime.datetime.today()\n",
    "gsc_window = datetime.timedelta(days=480)\n",
    "first_available = today - gsc_window\n",
    "\n",
    "endDate = today.strftime('%Y-%m-%d')\n",
    "startDate = (first_available.replace(day=1) + datetime.timedelta(days=32)).replace(day=1).strftime('%Y-%m-%d')"
   ]
  },
  {
   "cell_type": "code",
   "execution_count": 8,
   "metadata": {},
   "outputs": [
    {
     "data": {
      "text/plain": [
       "(datetime.datetime(2022, 4, 27, 10, 48, 7, 406368),\n",
       " datetime.datetime(2021, 1, 2, 10, 48, 7, 406368),\n",
       " '2022-04-27',\n",
       " '2021-02-01')"
      ]
     },
     "execution_count": 8,
     "metadata": {},
     "output_type": "execute_result"
    }
   ],
   "source": [
    "today, first_available, endDate, startDate"
   ]
  },
  {
   "cell_type": "markdown",
   "metadata": {},
   "source": [
    "## Get sites URL"
   ]
  },
  {
   "cell_type": "code",
   "execution_count": 9,
   "metadata": {},
   "outputs": [],
   "source": [
    "#------------------------------------------- get all sites ------------------------------------------\n",
    "\n",
    "site_list = connect(key).sites().list().execute()"
   ]
  },
  {
   "cell_type": "code",
   "execution_count": 10,
   "metadata": {},
   "outputs": [],
   "source": [
    "#------------------------------------------- get verified sites ------------------------------------------\n",
    "\n",
    "verified_sites_urls = [s['siteUrl'] for s in site_list['siteEntry']\n",
    "                       if s['permissionLevel'] != 'siteUnverifiedUser'\n",
    "                          and s['siteUrl'][:4] == 'http']\n"
   ]
  },
  {
   "cell_type": "markdown",
   "metadata": {},
   "source": [
    "# Classificate brand, generic and cameras"
   ]
  },
  {
   "cell_type": "code",
   "execution_count": 11,
   "metadata": {},
   "outputs": [],
   "source": [
    "re_branded = re.compile(r'.*v[eèé]r[iy]su.*', re.IGNORECASE)\n",
    "re_branded_sd = re.compile(r'.*se[cg]urita.*', re.IGNORECASE)\n",
    "re_cameras =  re.compile(r'.*[kc][aáà]m[aáàeéè]ra.*|.*monitor*', re.IGNORECASE)\n",
    "re_sd = re.compile(r'.*es*|.*pt*', re.IGNORECASE)"
   ]
  },
  {
   "cell_type": "code",
   "execution_count": 12,
   "metadata": {},
   "outputs": [],
   "source": [
    "#------------------------------------------- Queries categorization function -------------------------------\n",
    "\n",
    "def query_cats(df):\n",
    "    \"\"\"Categorizes queries on Brand, Cameras and Generic:\n",
    "        re_branded = re.compile(r'.*v[eèé]r[iy]su.*', re.IGNORECASE)\n",
    "        re_branded_sd = re.compile(r'.*se[cg]urita.*', re.IGNORECASE) -- for ES & PT\n",
    "        re_sd = re.compile(r'.*es*|.*pt*', re.IGNORECASE) -- for ES & PT\n",
    "        re_cameras =  re.compile(r'.*[kc][aáà]m[aáàeéè]ra.*|.*monitor*', re.IGNORECASE)\n",
    "    Arguments:\n",
    "        df: data frame to categorize, containing 'query' and 'country' columns\n",
    "    Return:\n",
    "        df (dataframe): Pandas dataframe containing requested data. \n",
    "    \"\"\"\n",
    "    \n",
    "    df['query_cat'] = df.apply(lambda row: 'Brand' if re_branded_sd.search(row.query) and re_sd.search(row.site_country)\n",
    "                               else 'Brand' if re_branded.search(row.query)\n",
    "                                                else ('Cameras' if re_cameras.search(row.query)\n",
    "                                                          else 'Generic'), axis=1)\n",
    "    \n",
    "    return(df)"
   ]
  },
  {
   "cell_type": "markdown",
   "metadata": {},
   "source": [
    "# Parse dates"
   ]
  },
  {
   "cell_type": "code",
   "execution_count": 13,
   "metadata": {},
   "outputs": [],
   "source": [
    "#------------------------------------------- Parse dates function -------------------------------\n",
    "\n",
    "def date_datetime(df):\n",
    "    \"\"\"Converts date to date, creates new date fields_\n",
    "        year\n",
    "        month\n",
    "        week\n",
    "        year_month\n",
    "        year_week\n",
    "    Arguments:\n",
    "        df: data frame to parse, including 'date' column\n",
    "    Return:\n",
    "        df (dataframe): Pandas dataframe containing requested data. \n",
    "    \"\"\"\n",
    "    # convert date to date, create new date fields\n",
    "\n",
    "    df['date'] = pd.to_datetime(df['date'])\n",
    "    df['date'] = df['date'].dt.date\n",
    "    \n",
    "    return(df)"
   ]
  },
  {
   "cell_type": "code",
   "execution_count": 14,
   "metadata": {},
   "outputs": [],
   "source": [
    "#------------------------------------------- Parse dates function -------------------------------\n",
    "\n",
    "def parse_dates(df):\n",
    "    \"\"\"Converts date to date, creates new date fields_\n",
    "        year\n",
    "        month\n",
    "        week\n",
    "        year_month\n",
    "        year_week\n",
    "    Arguments:\n",
    "        df: data frame to parse, including 'date' columns\n",
    "    Return:\n",
    "        df (dataframe): Pandas dataframe containing requested data. \n",
    "    \"\"\"\n",
    "    # convert date to date, create new date fields\n",
    "\n",
    "    df['date'] = pd.to_datetime(df['date'])\n",
    "\n",
    "    df['year'] = df.date.dt.year\n",
    "\n",
    "    df['month'] = df['date'].apply(\n",
    "        lambda x: x.strftime('%m'))\n",
    "\n",
    "    df['week'] = df['date'].apply(\n",
    "        lambda x: x.strftime('%W'))\n",
    "\n",
    "    df['year_month'] = df.year.astype(\n",
    "        str) + '-' + 'M' + df.month.astype(str)\n",
    "\n",
    "    df['year_week'] = df.year.astype(\n",
    "        str) + '-' + 'W' + df.week.astype(str)\n",
    "    \n",
    "    return(df)"
   ]
  }
 ],
 "metadata": {
  "kernelspec": {
   "display_name": "Python 3",
   "language": "python",
   "name": "python3"
  },
  "language_info": {
   "codemirror_mode": {
    "name": "ipython",
    "version": 3
   },
   "file_extension": ".py",
   "mimetype": "text/x-python",
   "name": "python",
   "nbconvert_exporter": "python",
   "pygments_lexer": "ipython3",
   "version": "3.6.7"
  },
  "toc": {
   "base_numbering": 1,
   "nav_menu": {},
   "number_sections": true,
   "sideBar": true,
   "skip_h1_title": false,
   "title_cell": "Table of Contents",
   "title_sidebar": "Contents",
   "toc_cell": true,
   "toc_position": {
    "height": "calc(100% - 180px)",
    "left": "10px",
    "top": "150px",
    "width": "302px"
   },
   "toc_section_display": true,
   "toc_window_display": true
  }
 },
 "nbformat": 4,
 "nbformat_minor": 4
}
